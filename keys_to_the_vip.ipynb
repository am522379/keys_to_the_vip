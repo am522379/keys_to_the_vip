{
 "cells": [
  {
   "cell_type": "markdown",
   "metadata": {},
   "source": [
    "# Social Findings from *Keys to the VIP*"
   ]
  },
  {
   "cell_type": "markdown",
   "metadata": {},
   "source": [
    "**Show Information**<br>\n",
    "Length: 3 seasons, 13 episdoes per season <br>\n",
    "Judges: Peachez (The Jock), Sheldon (Mysteriously Coy), Chris (Nice Guy), and Alen (Master of Pick-up Analysis) <br>\n",
    "Available on [Amazon Prime](https://www.amazon.com/gp/video/detail/B00BI4CJJM/ref=atv_dp_share_cu_r) and [YouTube](https://www.youtube.com/watch?v=pcwaTD2jJXo&list=PLwyhDyJ3VORYy2eXTD1vrA5k2UxiuvmS6)"
   ]
  },
  {
   "cell_type": "code",
   "execution_count": 1,
   "metadata": {},
   "outputs": [
    {
     "data": {
      "text/html": [
       "\n",
       "        <iframe\n",
       "            width=\"560\"\n",
       "            height=\"315\"\n",
       "            src=\"https://www.youtube.com/embed/pcwaTD2jJXo\"\n",
       "            frameborder=\"0\"\n",
       "            allowfullscreen\n",
       "        ></iframe>\n",
       "        "
      ],
      "text/plain": [
       "<IPython.lib.display.IFrame at 0x203d7458188>"
      ]
     },
     "execution_count": 1,
     "metadata": {},
     "output_type": "execute_result"
    }
   ],
   "source": [
    "from IPython.display import IFrame\n",
    "\n",
    "IFrame(src=\"https://www.youtube.com/embed/pcwaTD2jJXo\", width=\"560\", height=\"315\")"
   ]
  },
  {
   "cell_type": "markdown",
   "metadata": {},
   "source": [
    "***"
   ]
  },
  {
   "cell_type": "markdown",
   "metadata": {},
   "source": [
    "**Are you a guy that's trying to wade through the complicated world of dating? Are you a woman who wants to know why guys are so weird at the bar? Or are you someone who's interested in the psychology behind social interactions?**"
   ]
  },
  {
   "cell_type": "markdown",
   "metadata": {},
   "source": [
    "Enter *Keys to the VIP*, a comedy reality dating show based in Canada that shines a light on social interactions. In the show, viewers can see and hear (just about) everything as guys are asked to go into various clubs in order to attract woman under the guise of various challenges given to them by the judges. For the viewing audience, the experience is akin to eavesdropping, but without the risk of being caught. And the benefit is that we get a nearly unbiased glimpse into the conversastions that take place in bars and clubs."
   ]
  },
  {
   "cell_type": "markdown",
   "metadata": {},
   "source": [
    "There are couple of ways that people may think about *Keys to the VIP*. Either the show is: <br>\n",
    " - A sick, twisted exhibition showcasing the myriad ways in which men psychologically manipulate (i.e. seduce) woman into giving up their numbers.\n",
    " - A fascinating, authentic line of sight into social dynamics that explores questions such as: how do people respond to different social cues such as body language, tone of voice, choice of words, and timing?\n",
    " - An enlightening expose for guys as to how to most effectively interact with women (and people in general) to give their love life a boost."
   ]
  },
  {
   "cell_type": "markdown",
   "metadata": {},
   "source": [
    "To some extent, all of the aforementioned views are true. However, regardless of your point of view, one must concede that *Keys to the VIP* provides an unprecedented level of access into the world of dating. To that end, I thought it would be interesting to log each of the **239 approaches from all 39 episodes** and run some analytics to test some of my hyptheses. Of course, there are a multitude of insights to be gleaned. Therefore, I encourage you to download the SQLite repository and do some digging of your own. Let's check it out!"
   ]
  },
  {
   "cell_type": "markdown",
   "metadata": {},
   "source": [
    "***"
   ]
  },
  {
   "cell_type": "markdown",
   "metadata": {},
   "source": [
    "## Table of Contents"
   ]
  },
  {
   "cell_type": "markdown",
   "metadata": {},
   "source": [
    "<a href='#nice_guys_dont_finish_last'>Hypothesis #1: Nice Guys Don't Finish Last</a><br>\n",
    "<a href='#alpha_males_matter'>Hypothesis #2: Alpha Males Matter</a><br>\n",
    "<a href='#dont_buy_girl_drink'>Hypothesis #3: Buying drinks for a girl is a waste of cold, hard cash</a><br>\n",
    "<a href='#iso'>Hypothesis #4: Iso, Iso, Iso</a><br>\n",
    "<a href='#guys_need_direction'>Hypothesis #5: Guys Need Direction</a><br>"
   ]
  },
  {
   "cell_type": "markdown",
   "metadata": {},
   "source": [
    "***"
   ]
  },
  {
   "cell_type": "code",
   "execution_count": 2,
   "metadata": {},
   "outputs": [],
   "source": [
    "from flask import Flask\n",
    "from flask_sqlalchemy import SQLAlchemy\n",
    "from sqlalchemy import update, select, func, column, and_, asc\n",
    "import numpy as np\n",
    "import pandas as pd\n",
    "import matplotlib.pyplot as plt\n",
    "%matplotlib inline\n",
    "\n",
    "plt.style.use('ggplot')\n",
    "\n",
    "app = Flask(__name__)\n",
    "db = 'sqlite:///C:\\\\Users\\\\am522379\\\\OneDrive\\\\keys_to_the_vip\\\\keys_to_the_vip.db'\n",
    "app.config['SQLALCHEMY_DATABASE_URI'] = db\n",
    "app.config['SQLALCHEMY_TRACK_MODIFICATIONS'] = False\n",
    "\n",
    "db = SQLAlchemy(app)\n",
    "conn = db.engine.connect()\n",
    "episodes = db.Table('Episodes', db.Model.metadata, autoload=True, autoload_with=db.engine)\n",
    "contestants = db.Table('Contestants', db.Model.metadata, autoload=True, autoload_with=db.engine)\n",
    "challenges = db.Table('Challenges', db.Model.metadata, autoload=True, autoload_with=db.engine)\n",
    "approaches = db.Table('Approaches', db.Model.metadata, autoload=True, autoload_with=db.engine)\n",
    "\n",
    "total_approaches = db.session.query(approaches).count()"
   ]
  },
  {
   "cell_type": "markdown",
   "metadata": {},
   "source": [
    "<a id='nice_guys_dont_finish_last'></a>\n",
    "## Hypothesis #1: Nice Guys Don't Finish Last"
   ]
  },
  {
   "cell_type": "markdown",
   "metadata": {},
   "source": [
    "Do nice guys finish last or do assholes come out on top? As Sheldon once said, \"There's a theory out there that if you treat a girl like dirt, she'll stick to you like mud.\" While that is an utterly crude and unacceptable philosophy, we've all heard that some girls gravitate towards assholes. I, however, think that woman prefer nice guys, particularly those with an edge. To assess the hypothesis, I rated each guy as Nice Guy, Neutral, or Asshole based on each contestants profile and the judges' commentary."
   ]
  },
  {
   "cell_type": "code",
   "execution_count": 25,
   "metadata": {},
   "outputs": [],
   "source": [
    "success, sample_size = [], []\n",
    "personalities = ['Nice Guy', 'Neutral', 'Asshole']\n",
    "\n",
    "for personality in personalities:\n",
    "    number_personality = db.session.query(approaches).filter(approaches.c.Result=='Number'\n",
    "                                                            ).join(contestants\n",
    "                                                                  ).filter(contestants.c.Personality==personality).count()\n",
    "    \n",
    "    sample_personality = db.session.query(approaches\n",
    "                                         ).join(contestants\n",
    "                                               ).filter(contestants.c.Personality==personality).count()\n",
    "    \n",
    "    success_rate = round((number_personality/sample_personality)*100)\n",
    "    sample_size.insert(len(sample_size), sample_personality)\n",
    "    success.insert(len(success), success_rate)"
   ]
  },
  {
   "cell_type": "markdown",
   "metadata": {},
   "source": [
    "> **NOTE**: I measured success by determining the percentage of approaches the resulted in a number. Besides approaches resulting in a number, the other two approach outcomes I mapped are:\n",
    " - Reject: A girl doesn't give away her number (or dismisses the guy).\n",
    " - Nothing: The guy has a conversation with his interest and ends the conversation on his own.  "
   ]
  },
  {
   "cell_type": "code",
   "execution_count": 27,
   "metadata": {},
   "outputs": [
    {
     "name": "stdout",
     "output_type": "stream",
     "text": [
      "**Total Number of Approaches: Nice Guy, 89; Neutral, 98; Asshole, 52**\n"
     ]
    },
    {
     "data": {
      "image/png": "[encoded data removed]",
      "text/plain": [
       "<Figure size 432x288 with 1 Axes>"
      ]
     },
     "metadata": {
      "needs_background": "light"
     },
     "output_type": "display_data"
    }
   ],
   "source": [
    "print(f'**Total Number of Approaches: Nice Guy, {sample_size[0]}; Neutral, {sample_size[1]}; Asshole, {sample_size[2]}**')\n",
    "x_pos = np.arange(len(personalities))\n",
    "plt.title(f'Nice Guys Come Out On Top')\n",
    "plt.bar(x_pos, success, color='green')\n",
    "plt.ylabel('Got a number (%)')\n",
    "plt.xticks(x_pos, personalities)\n",
    "plt.show()"
   ]
  },
  {
   "cell_type": "markdown",
   "metadata": {},
   "source": [
    "#### Hypotheses: CONFIRMED"
   ]
  },
  {
   "cell_type": "markdown",
   "metadata": {},
   "source": [
    "***"
   ]
  },
  {
   "cell_type": "markdown",
   "metadata": {},
   "source": [
    "<a id='alpha_males_matter'></a>\n",
    "## Hypothesis #2: Alpha Males Matter"
   ]
  },
  {
   "cell_type": "markdown",
   "metadata": {},
   "source": [
    "Strong, dominant, and the most perfect physical representation of the the male form factor, alpha males would be expected to do fairly well. Just ask Peachez, one of the judges who's characterized as an \"All-Star, jock-inspired seduction specialist\". He lives for the alpha male contestant and as a result, tends to bet on them to win. The contestant was deemed to be an alpha male based on subjective opinion and the judges' commentary. Let's see if they came out on top. "
   ]
  },
  {
   "cell_type": "code",
   "execution_count": 29,
   "metadata": {},
   "outputs": [],
   "source": [
    "success, sample_size = [], []\n",
    "alpha = [1, 0]\n",
    "percentages = []\n",
    "\n",
    "for a in alpha:\n",
    "    number_alpha = db.session.query(approaches).filter(approaches.c.Result=='Number'\n",
    "                                                      ).join(contestants\n",
    "                                                            ).filter(contestants.c.IsAlphaMale==a).count()\n",
    "    sample_alpha = db.session.query(approaches\n",
    "                                   ).join(contestants\n",
    "                                         ).filter(contestants.c.IsAlphaMale==a).count()\n",
    "    \n",
    "    success_rate = round((number_alpha/sample_alpha)*100)\n",
    "    sample_size.insert(len(sample_size), sample_alpha)\n",
    "    success.insert(len(success), success_rate)"
   ]
  },
  {
   "cell_type": "code",
   "execution_count": 31,
   "metadata": {},
   "outputs": [
    {
     "data": {
      "image/png": "[encoded data removed]",
      "text/plain": [
       "<Figure size 432x288 with 1 Axes>"
      ]
     },
     "metadata": {
      "needs_background": "light"
     },
     "output_type": "display_data"
    }
   ],
   "source": [
    "x_pos = np.arange(len(alpha))\n",
    "plt.title(f'Alphas Dominate')\n",
    "plt.bar(x_pos, success, color='green')\n",
    "plt.ylabel('Got a number (%)')\n",
    "plt.xticks(x_pos, ['Alpha Male', 'Peon'])\n",
    "plt.show()"
   ]
  },
  {
   "cell_type": "markdown",
   "metadata": {},
   "source": [
    "### What About Looks?"
   ]
  },
  {
   "cell_type": "markdown",
   "metadata": {},
   "source": [
    "Given that alpha males are plucked from the top of the genetic tree, why not dig deeper and see if looks play a factor? Of course, the alphas were all attractive but keep in mind that not all good-looking guys are alpha males. Looks were judged on a 1-3 scale (1 = Danny Devito and 3 = Ryan Gosling)."
   ]
  },
  {
   "cell_type": "code",
   "execution_count": 33,
   "metadata": {},
   "outputs": [],
   "source": [
    "success, sample_size = [], []\n",
    "looks = [1, 2, 3]\n",
    "\n",
    "for i in looks:\n",
    "    number_looks = db.session.query(approaches\n",
    "                                   ).filter(approaches.c.Result=='Number'\n",
    "                                           ).join(contestants\n",
    "                                                 ).filter(contestants.c.Looks==i).count()\n",
    "    sample_looks = db.session.query(approaches\n",
    "                                   ).join(contestants\n",
    "                                         ).filter(contestants.c.Looks==i).count()\n",
    "    \n",
    "    success_rate = round((number_looks/sample_looks)*100)\n",
    "    sample_size.insert(len(sample_size), sample_looks)\n",
    "    success.insert(len(success), success_rate)"
   ]
  },
  {
   "cell_type": "code",
   "execution_count": 34,
   "metadata": {},
   "outputs": [
    {
     "data": {
      "image/png": "[encoded data removed]",
      "text/plain": [
       "<Figure size 432x288 with 1 Axes>"
      ]
     },
     "metadata": {
      "needs_background": "light"
     },
     "output_type": "display_data"
    }
   ],
   "source": [
    "x_pos = np.arange(len(looks))\n",
    "plt.title(f'Looks Matter')\n",
    "plt.barh(x_pos, success, color='green')\n",
    "plt.xlabel('Got a number (%)')\n",
    "plt.yticks(x_pos, looks)\n",
    "plt.show()"
   ]
  },
  {
   "cell_type": "markdown",
   "metadata": {},
   "source": [
    "### Looks and game are mutually exclusive"
   ]
  },
  {
   "cell_type": "markdown",
   "metadata": {},
   "source": [
    "While looks clearly matter, it's important to note that even those guys deemed less attractive can still have game, bringing in a number close to 50% of the time. In fact, out of the 58 approaches made by the less genetically gifted, they received a number (23 times) more than they got rejected (18 times). A prime example is Mike \"The Magician\". In the episode, he goes up against \"Hot Body\" Jason, a studly male stripper who doesn't need any social awareness to garner interest from beautiful women. While it looks like an uphill battle for the Magician, he is able to pull out a win. Not because of his looks, but because of his magic and his personality. Let's check out Mike below...Salute!"
   ]
  },
  {
   "cell_type": "code",
   "execution_count": 36,
   "metadata": {},
   "outputs": [
    {
     "data": {
      "image/png": "[encoded data removed]",
      "text/plain": [
       "<Figure size 432x288 with 1 Axes>"
      ]
     },
     "metadata": {
      "needs_background": "light"
     },
     "output_type": "display_data"
    },
    {
     "name": "stdout",
     "output_type": "stream",
     "text": [
      "[23, 18, 7]\n"
     ]
    }
   ],
   "source": [
    "results = ['Number', 'Reject', 'Nothing']\n",
    "data = []\n",
    "\n",
    "for r in results:\n",
    "    number = db.session.query(approaches).filter(approaches.c.Result==r\n",
    "                                                ).join(contestants\n",
    "                                                      ).filter(contestants.c.Looks==1).count()\n",
    "    data.insert(len(data), number)\n",
    "    \n",
    "x_pos = np.arange(len(results))\n",
    "plt.title(f'Even the Less Attractive Guys Get Numbers')\n",
    "plt.bar(x_pos, data, color='green')\n",
    "plt.ylabel('Got a number (%)')\n",
    "plt.xticks(x_pos, results)\n",
    "plt.show()\n",
    "print(data)"
   ]
  },
  {
   "cell_type": "code",
   "execution_count": 10,
   "metadata": {},
   "outputs": [
    {
     "data": {
      "text/html": [
       "\n",
       "        <iframe\n",
       "            width=\"560\"\n",
       "            height=\"315\"\n",
       "            src=\"https://www.youtube.com/embed/U8-2f2uxOcI?start=421\"\n",
       "            frameborder=\"0\"\n",
       "            allowfullscreen\n",
       "        ></iframe>\n",
       "        "
      ],
      "text/plain": [
       "<IPython.lib.display.IFrame at 0x203dc10f748>"
      ]
     },
     "execution_count": 10,
     "metadata": {},
     "output_type": "execute_result"
    }
   ],
   "source": [
    "from IPython.display import IFrame\n",
    "\n",
    "IFrame(src=\"https://www.youtube.com/embed/U8-2f2uxOcI?start=421\", width=\"560\", height=\"315\")"
   ]
  },
  {
   "cell_type": "markdown",
   "metadata": {},
   "source": [
    "#### Hypotheses: CONFIRMED"
   ]
  },
  {
   "cell_type": "markdown",
   "metadata": {},
   "source": [
    "***"
   ]
  },
  {
   "cell_type": "markdown",
   "metadata": {},
   "source": [
    "<a id='dont_buy_girl_drink'></a>\n",
    "## Hypothesis #3: Buying drinks for a girl is a waste of cold, hard cash"
   ]
  },
  {
   "cell_type": "markdown",
   "metadata": {},
   "source": [
    "Coming into the show, I always viewed buying drinks for a girl to be a waste of money; just because you buy someone a drink doesn't mean they're interested. After all, some people are in the club to hang out with their friends and nothing else. But if someone offers to buy them a drink, they're not going to say no, are they? Not to mention that offering to buy a girl a drink is a rather forced way of talking to her. It also may inject feeling of reciprocity whereby the girl may give you her number to repay you for getting her a drink. No authentic feelings necessary. Unfortunately, the ultimate results will come with the aforementioned caveat: a number might be obtained just because the guy bought the girl a drink. "
   ]
  },
  {
   "cell_type": "code",
   "execution_count": 38,
   "metadata": {},
   "outputs": [],
   "source": [
    "success, sample_size = [], []\n",
    "is_drink_purchased = [0, 1]\n",
    "\n",
    "for i in is_drink_purchased:\n",
    "    number_drinks = db.session.query(approaches).filter(approaches.c.Result=='Number'\n",
    "                                                        , approaches.c.IsDrinkPurchased==i).count()\n",
    "    sample_drinks = db.session.query(approaches).filter(approaches.c.IsDrinkPurchased==i).count()\n",
    "    \n",
    "    success_rate = round((number_drinks/sample_drinks)*100)\n",
    "    sample_size.insert(len(sample_size), sample_drinks)\n",
    "    success.insert(len(success), success_rate)"
   ]
  },
  {
   "cell_type": "code",
   "execution_count": 40,
   "metadata": {},
   "outputs": [
    {
     "data": {
      "image/png": "[encoded data removed]",
      "text/plain": [
       "<Figure size 432x288 with 1 Axes>"
      ]
     },
     "metadata": {
      "needs_background": "light"
     },
     "output_type": "display_data"
    }
   ],
   "source": [
    "x_pos = np.arange(len(is_drink_purchased))\n",
    "plt.title(f'Considering Offering a Girl a Drink')\n",
    "plt.bar(x_pos, success, color='green')\n",
    "plt.ylabel('Got a number (%)')\n",
    "plt.xticks(x_pos, ['No Drink Purchased', 'Drink Purchased'])\n",
    "plt.show()"
   ]
  },
  {
   "cell_type": "markdown",
   "metadata": {},
   "source": [
    "#### Hypotheses: REJECTED"
   ]
  },
  {
   "cell_type": "markdown",
   "metadata": {},
   "source": [
    "***"
   ]
  },
  {
   "cell_type": "markdown",
   "metadata": {},
   "source": [
    "<a id='iso'></a>\n",
    "## Hypothesis #4: Iso, Iso, Iso"
   ]
  },
  {
   "cell_type": "markdown",
   "metadata": {},
   "source": [
    "How do you develop the best connection with that hottie across the bar? When you're able to talk to them alone, without the influence and distraction that might come with their friend group. Since Keys to the VIP contestants are supposed to be proficient in attracting women, I figured that the odds of getting a number went up when isolating their love interest. For the purposes of the analysis, I considered isolation to be anytime the couple were relatively isolated from the group or were able to hold a conversation without influence from the friend group."
   ]
  },
  {
   "cell_type": "code",
   "execution_count": 13,
   "metadata": {},
   "outputs": [],
   "source": [
    "success, sample_size = [], []\n",
    "is_iso = [0, 1]\n",
    "\n",
    "for i in is_iso:\n",
    "    number_iso = db.session.query(approaches).filter(approaches.c.Result=='Number'\n",
    "                                                     , approaches.c.IsIso==i).count()\n",
    "    sample_iso = db.session.query(approaches).filter(approaches.c.IsIso==i).count()\n",
    "    \n",
    "    success_rate = round((number_iso/sample_iso)*100)\n",
    "    sample_size.insert(len(sample_size), sample_iso)\n",
    "    success.insert(len(success), success_rate)"
   ]
  },
  {
   "cell_type": "code",
   "execution_count": 14,
   "metadata": {},
   "outputs": [
    {
     "data": {
      "image/png": "[encoded data removed]",
      "text/plain": [
       "<Figure size 432x288 with 1 Axes>"
      ]
     },
     "metadata": {
      "needs_background": "light"
     },
     "output_type": "display_data"
    }
   ],
   "source": [
    "x_pos = np.arange(len(is_iso))\n",
    "plt.bar(x_pos, success, color='green')\n",
    "plt.title(f'Isolating gives you a 2/3 chance')\n",
    "plt.ylabel('Got a number (%)')\n",
    "plt.ylim(ymax = 100, ymin = 0)\n",
    "plt.xticks(x_pos, ['No Iso', 'Iso'])\n",
    "\n",
    "plt.show()"
   ]
  },
  {
   "cell_type": "markdown",
   "metadata": {},
   "source": [
    "### Does the size of the set matter?"
   ]
  },
  {
   "cell_type": "code",
   "execution_count": 15,
   "metadata": {},
   "outputs": [],
   "source": [
    "success, sample_size = [], []\n",
    "\n",
    "set_count = conn.execute(select([column('SetCount')]).select_from(approaches).distinct()).fetchall()\n",
    "set_count = sorted([count[0] for count in set_count])\n",
    "\n",
    "for count in set_count:\n",
    "    number_set = db.session.query(approaches).filter(approaches.c.SetCount==count\n",
    "                                                     , approaches.c.Result=='Number').count()\n",
    "    sample_set = db.session.query(approaches).filter(approaches.c.SetCount==count).count()\n",
    "   \n",
    "    success_rate = round((number_set/sample_set)*100)\n",
    "    sample_size.insert(len(sample_size), sample_set)\n",
    "    success.insert(len(success), success_rate)\n",
    "\n",
    "corr = round(np.corrcoef(x=set_count, y=success)[0][1] * 100,2)"
   ]
  },
  {
   "cell_type": "code",
   "execution_count": 16,
   "metadata": {},
   "outputs": [
    {
     "data": {
      "image/png": "[encoded data removed]",
      "text/plain": [
       "<Figure size 432x288 with 1 Axes>"
      ]
     },
     "metadata": {
      "needs_background": "light"
     },
     "output_type": "display_data"
    }
   ],
   "source": [
    "x_pos = np.arange(len(set_count))\n",
    "plt.bar(x_pos, success, color='green')\n",
    "plt.title(f'Set Count is No Predictor of Success (Corr = {corr}%)')\n",
    "plt.ylabel('Got a number (%)')\n",
    "plt.xlabel('Set Count')\n",
    "plt.xticks(x_pos, set_count)\n",
    "\n",
    "plt.show()"
   ]
  },
  {
   "cell_type": "markdown",
   "metadata": {},
   "source": [
    "> **NOTE**: There was only one guy crazy enough to try and speak to 7 people at once: Steve a.k.a Sphinx. Not only did the \"Human Action Figure\" manage to introduce himself to such a large group, but he fended off one hell of a mother hen in the process."
   ]
  },
  {
   "cell_type": "code",
   "execution_count": 17,
   "metadata": {
    "scrolled": false
   },
   "outputs": [
    {
     "data": {
      "text/html": [
       "\n",
       "        <iframe\n",
       "            width=\"560\"\n",
       "            height=\"315\"\n",
       "            src=\"https://www.youtube.com/embed/aigyldri5do?start=1121\"\n",
       "            frameborder=\"0\"\n",
       "            allowfullscreen\n",
       "        ></iframe>\n",
       "        "
      ],
      "text/plain": [
       "<IPython.lib.display.IFrame at 0x203dc1d9688>"
      ]
     },
     "execution_count": 17,
     "metadata": {},
     "output_type": "execute_result"
    }
   ],
   "source": [
    "from IPython.display import IFrame\n",
    "\n",
    "IFrame(src=\"https://www.youtube.com/embed/aigyldri5do?start=1121\", width=\"560\", height=\"315\")"
   ]
  },
  {
   "cell_type": "markdown",
   "metadata": {},
   "source": [
    "#### Hypotheses: CONFIRMED"
   ]
  },
  {
   "cell_type": "markdown",
   "metadata": {},
   "source": [
    "***"
   ]
  },
  {
   "cell_type": "markdown",
   "metadata": {},
   "source": [
    "<a id='guys_need_direction'></a>\n",
    "## Hypothesis #5: Guys Need Direction"
   ]
  },
  {
   "cell_type": "markdown",
   "metadata": {},
   "source": [
    "Many women don't realize how intimidating it can be for a guy to approach a beautiful girl. Beyond all of the evolutionary biology that makes the situation tense, there's also the thought they need the perfect introduction. Many guys are handcuffed by thoughts such as: What am I going to say? How is she going to react? What will her friends think? Validity of the thoughts aside, I hypothesize that guys who are given direction are more likely to succeed. There are many challenges presented to the contestants. There are three challenges that give the contestant free reign: Freestyle, Seduction School, and The Routine. To that end, approaches under these challenges will serve as my comparison group."
   ]
  },
  {
   "cell_type": "code",
   "execution_count": 18,
   "metadata": {},
   "outputs": [],
   "source": [
    "success, sample_size = [], []\n",
    "freestyles = (10 , 15, 51)\n",
    "\n",
    "number_no_dir = db.session.query(approaches\n",
    "                                ).filter(approaches.c.Result=='Number'\n",
    "                                        ).join(challenges\n",
    "                                              ).filter(challenges.c.ID.in_(freestyles)).count()\n",
    "\n",
    "sample_no_dir = db.session.query(approaches\n",
    "                                ).join(challenges\n",
    "                                      ).filter(challenges.c.ID.in_(freestyles)).count()\n",
    "\n",
    "number_dir = db.session.query(approaches\n",
    "                             ).filter(approaches.c.Result=='Number'\n",
    "                                     ).join(challenges\n",
    "                                           ).filter(challenges.c.ID.notin_(freestyles)).count()\n",
    "\n",
    "sample_dir = db.session.query(approaches\n",
    "                             ).join(challenges\n",
    "                                   ).filter(challenges.c.ID.notin_(freestyles)).count()\n",
    "\n",
    "success = [int((number_no_dir/sample_no_dir)*100), int((number_dir/sample_dir)*100)]\n",
    "sample_size = [sample_no_dir, sample_dir]"
   ]
  },
  {
   "cell_type": "code",
   "execution_count": 42,
   "metadata": {},
   "outputs": [
    {
     "data": {
      "image/png": "[encoded data removed]",
      "text/plain": [
       "<Figure size 432x288 with 1 Axes>"
      ]
     },
     "metadata": {
      "needs_background": "light"
     },
     "output_type": "display_data"
    }
   ],
   "source": [
    "x_pos = np.arange(len(success))\n",
    "plt.bar(x_pos, success, color='green')\n",
    "plt.title(f'It\\'s a Wash')\n",
    "plt.ylabel('Got a number (%)')\n",
    "plt.ylim(ymax = 100, ymin = 0)\n",
    "plt.xticks(x_pos, ['No Direction', 'Direction'])\n",
    "\n",
    "plt.show()"
   ]
  },
  {
   "cell_type": "markdown",
   "metadata": {},
   "source": [
    "### Which challenge was the best/worst?"
   ]
  },
  {
   "cell_type": "code",
   "execution_count": 20,
   "metadata": {},
   "outputs": [],
   "source": [
    "challenge_types = db.session.query(challenges).all()"
   ]
  },
  {
   "cell_type": "code",
   "execution_count": 21,
   "metadata": {},
   "outputs": [],
   "source": [
    "d={}\n",
    "result, results = [], []\n",
    "\n",
    "for challenge in challenge_types:\n",
    "    number_challenge = db.session.query(approaches).filter(approaches.c.Result=='Number').join(challenges).filter(challenges.c.ID==challenge[0]).count()\n",
    "    sample_challenge = db.session.query(approaches).join(challenges).filter(challenges.c.ID==challenge[0]).count()\n",
    "\n",
    "    result = [challenge[1], challenge[2], round((number_challenge/sample_challenge)*100), sample_challenge]\n",
    "    results.insert(len(results), result)\n",
    "\n",
    "sort_challenges = sorted(results, key=lambda x: x[2], reverse=True)\n",
    "df = pd.DataFrame(sort_challenges, columns =['Name', 'Description', 'Success Rate (%)', 'Approaches']) "
   ]
  },
  {
   "cell_type": "markdown",
   "metadata": {},
   "source": [
    "### The Most Successful Challenges"
   ]
  },
  {
   "cell_type": "code",
   "execution_count": 44,
   "metadata": {
    "scrolled": true
   },
   "outputs": [
    {
     "data": {
      "text/html": [
       "<div>\n",
       "<style scoped>\n",
       "    .dataframe tbody tr th:only-of-type {\n",
       "        vertical-align: middle;\n",
       "    }\n",
       "\n",
       "    .dataframe tbody tr th {\n",
       "        vertical-align: top;\n",
       "    }\n",
       "\n",
       "    .dataframe thead th {\n",
       "        text-align: right;\n",
       "    }\n",
       "</style>\n",
       "<table border=\"1\" class=\"dataframe\">\n",
       "  <thead>\n",
       "    <tr style=\"text-align: right;\">\n",
       "      <th></th>\n",
       "      <th>Name</th>\n",
       "      <th>Description</th>\n",
       "      <th>Success Rate (%)</th>\n",
       "      <th>Approaches</th>\n",
       "    </tr>\n",
       "  </thead>\n",
       "  <tbody>\n",
       "    <tr>\n",
       "      <td>0</td>\n",
       "      <td>Starving Artist</td>\n",
       "      <td>Convince girl that you are unemployed and live...</td>\n",
       "      <td>100</td>\n",
       "      <td>2</td>\n",
       "    </tr>\n",
       "    <tr>\n",
       "      <td>1</td>\n",
       "      <td>The Palm Reader</td>\n",
       "      <td>Initiate pick-up with a palm reading</td>\n",
       "      <td>100</td>\n",
       "      <td>4</td>\n",
       "    </tr>\n",
       "    <tr>\n",
       "      <td>2</td>\n",
       "      <td>Quiet on the Set</td>\n",
       "      <td>Ask woman to be quiet as you listen to song th...</td>\n",
       "      <td>100</td>\n",
       "      <td>2</td>\n",
       "    </tr>\n",
       "    <tr>\n",
       "      <td>3</td>\n",
       "      <td>Kiss Close</td>\n",
       "      <td>Complete pick-up with a kiss</td>\n",
       "      <td>100</td>\n",
       "      <td>4</td>\n",
       "    </tr>\n",
       "    <tr>\n",
       "      <td>4</td>\n",
       "      <td>Shaken Not Stirred</td>\n",
       "      <td>Create a drinking game that leads to a kiss</td>\n",
       "      <td>100</td>\n",
       "      <td>4</td>\n",
       "    </tr>\n",
       "    <tr>\n",
       "      <td>5</td>\n",
       "      <td>The Ex-Lover</td>\n",
       "      <td>Seduce a woman while fending off ex-lover</td>\n",
       "      <td>100</td>\n",
       "      <td>2</td>\n",
       "    </tr>\n",
       "    <tr>\n",
       "      <td>6</td>\n",
       "      <td>The Date</td>\n",
       "      <td>Convince girl to go with him on date</td>\n",
       "      <td>100</td>\n",
       "      <td>2</td>\n",
       "    </tr>\n",
       "    <tr>\n",
       "      <td>7</td>\n",
       "      <td>Jealousy Angle</td>\n",
       "      <td>Recruit a woman to make your ex jealous</td>\n",
       "      <td>100</td>\n",
       "      <td>2</td>\n",
       "    </tr>\n",
       "    <tr>\n",
       "      <td>8</td>\n",
       "      <td>Speed Dial</td>\n",
       "      <td>Get number in less than a minute</td>\n",
       "      <td>90</td>\n",
       "      <td>10</td>\n",
       "    </tr>\n",
       "    <tr>\n",
       "      <td>9</td>\n",
       "      <td>Angry Girlfriend</td>\n",
       "      <td>Get woman's number while fending off angry gir...</td>\n",
       "      <td>83</td>\n",
       "      <td>6</td>\n",
       "    </tr>\n",
       "  </tbody>\n",
       "</table>\n",
       "</div>"
      ],
      "text/plain": [
       "                 Name                                        Description  \\\n",
       "0     Starving Artist  Convince girl that you are unemployed and live...   \n",
       "1     The Palm Reader               Initiate pick-up with a palm reading   \n",
       "2    Quiet on the Set  Ask woman to be quiet as you listen to song th...   \n",
       "3          Kiss Close                       Complete pick-up with a kiss   \n",
       "4  Shaken Not Stirred        Create a drinking game that leads to a kiss   \n",
       "5        The Ex-Lover          Seduce a woman while fending off ex-lover   \n",
       "6            The Date               Convince girl to go with him on date   \n",
       "7      Jealousy Angle            Recruit a woman to make your ex jealous   \n",
       "8          Speed Dial                   Get number in less than a minute   \n",
       "9    Angry Girlfriend  Get woman's number while fending off angry gir...   \n",
       "\n",
       "   Success Rate (%)  Approaches  \n",
       "0               100           2  \n",
       "1               100           4  \n",
       "2               100           2  \n",
       "3               100           4  \n",
       "4               100           4  \n",
       "5               100           2  \n",
       "6               100           2  \n",
       "7               100           2  \n",
       "8                90          10  \n",
       "9                83           6  "
      ]
     },
     "execution_count": 44,
     "metadata": {},
     "output_type": "execute_result"
    }
   ],
   "source": [
    "df.head(10)"
   ]
  },
  {
   "cell_type": "markdown",
   "metadata": {},
   "source": [
    ">**NOTE**: I broadened the range to 10 challenges to shift the focus from those challenges with a small sample size."
   ]
  },
  {
   "cell_type": "markdown",
   "metadata": {},
   "source": [
    "**The Kiss Close** - undoubtedly the most difficult challenge - was used twice in the entire show. Unbeleivably, all 4 contestants succeeded in their own right. Let's take a peek at one of those successful challenges, where Andrew (a.k.a. The Dungeon Master) pulls off one of the most unusual and remarkable pick-ups in history (yes, history)."
   ]
  },
  {
   "cell_type": "code",
   "execution_count": 48,
   "metadata": {
    "scrolled": false
   },
   "outputs": [
    {
     "data": {
      "text/html": [
       "\n",
       "        <iframe\n",
       "            width=\"560\"\n",
       "            height=\"315\"\n",
       "            src=\"https://www.youtube.com/embed/EOsJzR8o_vM?start=959\"\n",
       "            frameborder=\"0\"\n",
       "            allowfullscreen\n",
       "        ></iframe>\n",
       "        "
      ],
      "text/plain": [
       "<IPython.lib.display.IFrame at 0x203dc6d5488>"
      ]
     },
     "execution_count": 48,
     "metadata": {},
     "output_type": "execute_result"
    }
   ],
   "source": [
    "from IPython.display import IFrame\n",
    "\n",
    "IFrame(src=\"https://www.youtube.com/embed/EOsJzR8o_vM?start=959\", width=\"560\", height=\"315\")"
   ]
  },
  {
   "cell_type": "markdown",
   "metadata": {},
   "source": [
    "### The Least Successful Challenges"
   ]
  },
  {
   "cell_type": "code",
   "execution_count": 52,
   "metadata": {},
   "outputs": [
    {
     "data": {
      "text/html": [
       "<div>\n",
       "<style scoped>\n",
       "    .dataframe tbody tr th:only-of-type {\n",
       "        vertical-align: middle;\n",
       "    }\n",
       "\n",
       "    .dataframe tbody tr th {\n",
       "        vertical-align: top;\n",
       "    }\n",
       "\n",
       "    .dataframe thead th {\n",
       "        text-align: right;\n",
       "    }\n",
       "</style>\n",
       "<table border=\"1\" class=\"dataframe\">\n",
       "  <thead>\n",
       "    <tr style=\"text-align: right;\">\n",
       "      <th></th>\n",
       "      <th>Name</th>\n",
       "      <th>Description</th>\n",
       "      <th>Success Rate (%)</th>\n",
       "      <th>Approaches</th>\n",
       "    </tr>\n",
       "  </thead>\n",
       "  <tbody>\n",
       "    <tr>\n",
       "      <td>45</td>\n",
       "      <td>3 Approaches</td>\n",
       "      <td>Approach 3 different women</td>\n",
       "      <td>0</td>\n",
       "      <td>6</td>\n",
       "    </tr>\n",
       "    <tr>\n",
       "      <td>46</td>\n",
       "      <td>The Dancer</td>\n",
       "      <td>Seduce woman onto dance floor without saying a...</td>\n",
       "      <td>0</td>\n",
       "      <td>2</td>\n",
       "    </tr>\n",
       "    <tr>\n",
       "      <td>47</td>\n",
       "      <td>The Hyena</td>\n",
       "      <td>Obtain number while fending off opponent</td>\n",
       "      <td>0</td>\n",
       "      <td>2</td>\n",
       "    </tr>\n",
       "    <tr>\n",
       "      <td>48</td>\n",
       "      <td>The Box Out</td>\n",
       "      <td>Initiate pick up by boxing out obstacle from t...</td>\n",
       "      <td>0</td>\n",
       "      <td>2</td>\n",
       "    </tr>\n",
       "    <tr>\n",
       "      <td>49</td>\n",
       "      <td>Friend Destroyer</td>\n",
       "      <td>Obtain number while fending off friend destroyer</td>\n",
       "      <td>0</td>\n",
       "      <td>2</td>\n",
       "    </tr>\n",
       "    <tr>\n",
       "      <td>50</td>\n",
       "      <td>She's So Silly</td>\n",
       "      <td>Make a woman laugh at her friends</td>\n",
       "      <td>0</td>\n",
       "      <td>2</td>\n",
       "    </tr>\n",
       "    <tr>\n",
       "      <td>51</td>\n",
       "      <td>Body Shots</td>\n",
       "      <td>Initiate body shots at the bar</td>\n",
       "      <td>0</td>\n",
       "      <td>2</td>\n",
       "    </tr>\n",
       "    <tr>\n",
       "      <td>52</td>\n",
       "      <td>Opinion Opener</td>\n",
       "      <td>Open set with opinion</td>\n",
       "      <td>0</td>\n",
       "      <td>2</td>\n",
       "    </tr>\n",
       "    <tr>\n",
       "      <td>53</td>\n",
       "      <td>The Routine</td>\n",
       "      <td>Demonstrate textbook seducation routine</td>\n",
       "      <td>0</td>\n",
       "      <td>2</td>\n",
       "    </tr>\n",
       "    <tr>\n",
       "      <td>54</td>\n",
       "      <td>Point Taken</td>\n",
       "      <td>Ask group of girls to rate your looks, persona...</td>\n",
       "      <td>0</td>\n",
       "      <td>2</td>\n",
       "    </tr>\n",
       "  </tbody>\n",
       "</table>\n",
       "</div>"
      ],
      "text/plain": [
       "                Name                                        Description  \\\n",
       "45      3 Approaches                         Approach 3 different women   \n",
       "46        The Dancer  Seduce woman onto dance floor without saying a...   \n",
       "47         The Hyena           Obtain number while fending off opponent   \n",
       "48       The Box Out  Initiate pick up by boxing out obstacle from t...   \n",
       "49  Friend Destroyer   Obtain number while fending off friend destroyer   \n",
       "50    She's So Silly                  Make a woman laugh at her friends   \n",
       "51        Body Shots                     Initiate body shots at the bar   \n",
       "52    Opinion Opener                              Open set with opinion   \n",
       "53       The Routine            Demonstrate textbook seducation routine   \n",
       "54       Point Taken  Ask group of girls to rate your looks, persona...   \n",
       "\n",
       "    Success Rate (%)  Approaches  \n",
       "45                 0           6  \n",
       "46                 0           2  \n",
       "47                 0           2  \n",
       "48                 0           2  \n",
       "49                 0           2  \n",
       "50                 0           2  \n",
       "51                 0           2  \n",
       "52                 0           2  \n",
       "53                 0           2  \n",
       "54                 0           2  "
      ]
     },
     "execution_count": 52,
     "metadata": {},
     "output_type": "execute_result"
    }
   ],
   "source": [
    "df.tail(10)"
   ]
  },
  {
   "cell_type": "markdown",
   "metadata": {},
   "source": [
    "In one of the most brutal episodes in the entire series, Yakov \"The Trapper\" goes up against \"Cocoa Butter\" Chris. Both guys were subjected to two of the ten least successful challenges: **3 Approaches** and **The Hyena**. Clearly, neither of them were able to come away with the number as Yakov mistakenly thought he was at a rave the entire night and \"Cocoa Butter\" Chris has the personality of a tomato. Enjoy (or not)."
   ]
  },
  {
   "cell_type": "code",
   "execution_count": 53,
   "metadata": {},
   "outputs": [
    {
     "data": {
      "text/html": [
       "\n",
       "        <iframe\n",
       "            width=\"560\"\n",
       "            height=\"315\"\n",
       "            src=\"https://www.youtube.com/embed/K71nF8sD-do?start=87\"\n",
       "            frameborder=\"0\"\n",
       "            allowfullscreen\n",
       "        ></iframe>\n",
       "        "
      ],
      "text/plain": [
       "<IPython.lib.display.IFrame at 0x203dc1597c8>"
      ]
     },
     "execution_count": 53,
     "metadata": {},
     "output_type": "execute_result"
    }
   ],
   "source": [
    "from IPython.display import IFrame\n",
    "\n",
    "IFrame(src=\"https://www.youtube.com/embed/K71nF8sD-do?start=87\", width=\"560\", height=\"315\")"
   ]
  },
  {
   "cell_type": "markdown",
   "metadata": {},
   "source": [
    "#### Hypotheses: Rejected"
   ]
  },
  {
   "cell_type": "markdown",
   "metadata": {},
   "source": [
    "***"
   ]
  },
  {
   "cell_type": "markdown",
   "metadata": {},
   "source": [
    "<a id='final_thoughts'></a>\n",
    "## Final Thoughts"
   ]
  },
  {
   "cell_type": "markdown",
   "metadata": {},
   "source": [
    "Navigate to the reviews on [IMDB](https://www.imdb.com/title/tt0839004/) and you'll find that *Keys To The VIP* is extremely polarizing. If it wasn't patently obvious, I found the show to be extremely entertaining. More importantly, I enjoyed the psychological aspect of the show since I could dive into each interaction and observe \"genuine\" human interactions in a relatable social context. It may be said that the concept of picking-up women in the fashion exhibited throughout the show is male chauvanist in nature. To some extent, you'd be right. However, it's also true that due in part to our evolutionary biology, many societal norms throughout the world continue to put the pressue on the guy to make the first move in an effort to attract his love interest. Guys and girls are complicit in this allowing these norms to persist. As a result, guys tend to look for ways to present themselves in the best light possible, and women carry out a similar kind of analysis. Obviously, the line can skew too far to the side of rogue manipulation, where the gentleman presents himself as someone who he really isn't. But for those who are able to appropriately demonstrate the best of themselves in an effort to attract a partner, they will be in the best position to obtain the Key to the VIP."
   ]
  }
 ],
 "metadata": {
  "kernelspec": {
   "display_name": "Python 3",
   "language": "python",
   "name": "python3"
  },
  "language_info": {
   "codemirror_mode": {
    "name": "ipython",
    "version": 3
   },
   "file_extension": ".py",
   "mimetype": "text/x-python",
   "name": "python",
   "nbconvert_exporter": "python",
   "pygments_lexer": "ipython3",
   "version": "3.7.4"
  }
 },
 "nbformat": 4,
 "nbformat_minor": 2
}
